{
 "cells": [
  {
   "cell_type": "markdown",
   "metadata": {},
   "source": [
    "# Instructions\n",
    "\n",
    "1. Add your name and HW Group Number below.\n",
    "2. Complete each question. Make sure you fill in any place that says `YOUR CODE HERE` or \"YOUR ANSWER HERE\".\n",
    "3. Where applicable, run the test cases *below* each question to check your work. **Note**: In addition to the test cases you can see, the instructor may run additional test cases, including using *other datasets* to validate you code.\n",
    "4. Before you turn this problem in, make sure everything runs as expected. First, **restart the kernel** (in the menubar, select Kernel$\\rightarrow$Restart) and then **run all cells** (in the menubar, select Cell$\\rightarrow$Run All). You can also use the **Validate** button to run all test cases.\n",
    "5. Turn in your homework by going to the main screen in JupyterHub, clicking the Assignments menu, and submitting. **Also** make sure to turn in your homework on Moodle (so we have a backup copy).\n",
    "\n"
   ]
  },
  {
   "cell_type": "code",
   "execution_count": 1,
   "metadata": {},
   "outputs": [],
   "source": [
    "\"\"\"\n",
    "Name: Sagnik\n",
    "HW Group Number: 32 \n",
    "\"\"\""
   ]
  },
  {
   "cell_type": "markdown",
   "metadata": {
    "deletable": false,
    "editable": false,
    "nbgrader": {
     "cell_type": "markdown",
     "checksum": "ab9565fd018a36b4ce66de189c0b8c68",
     "grade": false,
     "grade_id": "cell-e0015c80ebf3d3f4",
     "locked": true,
     "schema_version": 3,
     "solution": false,
     "task": false
    }
   },
   "source": [
    "## Homework 1: Problem 2: Discretization"
   ]
  },
  {
   "cell_type": "markdown",
   "metadata": {
    "deletable": false,
    "editable": false,
    "nbgrader": {
     "cell_type": "markdown",
     "checksum": "550db5aa80de1e7af969bcb844f32e18",
     "grade": false,
     "grade_id": "cell-f59bbfdc7af58f37",
     "locked": true,
     "schema_version": 3,
     "solution": false,
     "task": false
    }
   },
   "source": [
    "### Import all necessary libraries"
   ]
  },
  {
   "cell_type": "code",
   "execution_count": 2,
   "metadata": {
    "deletable": false,
    "editable": false,
    "nbgrader": {
     "cell_type": "code",
     "checksum": "c09630a41beaa6a5d1b2c8a234f2f00b",
     "grade": false,
     "grade_id": "cell-de25eb427ff266c6",
     "locked": true,
     "schema_version": 3,
     "solution": false,
     "task": false
    }
   },
   "outputs": [],
   "source": [
    "# you should be familiar with numpy from HW0\n",
    "import numpy as np\n",
    "import pandas as pd"
   ]
  },
  {
   "cell_type": "markdown",
   "metadata": {
    "deletable": false,
    "editable": false,
    "nbgrader": {
     "cell_type": "markdown",
     "checksum": "039f73427940acfeb2077a14a0bd7f32",
     "grade": false,
     "grade_id": "cell-9c30171bad3bafef",
     "locked": true,
     "schema_version": 3,
     "solution": false,
     "task": false
    }
   },
   "source": [
    "## 2.1 Equal-width discretization\n",
    "\n",
    "In the following exercises, you will be writing code to discretize a defined numpy vector into equal-width bins (no other libraries are allowed). The $n$ bins should all be of size $(max - min) / n$. If a value falls directly on a break, you should put it in the higher bin."
   ]
  },
  {
   "cell_type": "code",
   "execution_count": 3,
   "metadata": {
    "deletable": false,
    "nbgrader": {
     "cell_type": "code",
     "checksum": "a244d9904a0678f552aae037185df200",
     "grade": false,
     "grade_id": "cell-c1cea62a2aa6e506",
     "locked": false,
     "schema_version": 3,
     "solution": true,
     "task": false
    }
   },
   "outputs": [],
   "source": [
    "def equal_width(v, n):\n",
    "    \"\"\"\n",
    "    Input: v: the vector to be discretized (np.array).\n",
    "           n: is the number of equal-width bins (intervals) for discretization.\n",
    "    Output: an np.array of the same length as v, where each item indicates the\n",
    "            bin number (int value) of the corresponding item in v, starting at 0 for the\n",
    "            first bin.\n",
    "    Allowed Libraries: None (other than np).\n",
    "    \"\"\"\n",
    "    #v = np.array([1, 6, 13, 40, 56, 7, 23, 43])\n",
    "    assert n > 0\n",
    "    #n = 1\n",
    "    max_val = np.amax(v)\n",
    "    min_val = np.amin(v)\n",
    "    bin_size = (max_val - min_val) / n\n",
    "    \n",
    "    result = []\n",
    "    for i in v:\n",
    "        bin_num = int( i // bin_size )\n",
    "        if bin_num > n - 1:\n",
    "            bin_num = n - 1\n",
    "        result.append( bin_num )\n",
    "    return result\n",
    "    #print(result)\n",
    "    "
   ]
  },
  {
   "cell_type": "code",
   "execution_count": 4,
   "metadata": {},
   "outputs": [
    {
     "data": {
      "text/plain": [
       "[0, 0, 1, 3, 4, 0, 2, 3]"
      ]
     },
     "execution_count": 4,
     "metadata": {},
     "output_type": "execute_result"
    }
   ],
   "source": [
    "# Test your function!\n",
    "v = np.array([1, 6, 13, 40, 56, 7, 23, 43])\n",
    "# Bin size should be 11 = (56-1)/5, so we get [1-12), [12, 23), etc.\n",
    "count = equal_width(v, 5)\n",
    "count"
   ]
  },
  {
   "cell_type": "code",
   "execution_count": 5,
   "metadata": {
    "deletable": false,
    "editable": false,
    "nbgrader": {
     "cell_type": "code",
     "checksum": "0d9bff0a58a3fb12ade042fcdb7387a5",
     "grade": true,
     "grade_id": "equal_width",
     "locked": true,
     "points": 4,
     "schema_version": 3,
     "solution": false,
     "task": false
    }
   },
   "outputs": [],
   "source": [
    "v = np.array([1, 6, 13, 40, 56, 7, 23, 43])\n",
    "# Note, the \"or\" here is to support the original, incorrect test cases\n",
    "assert np.array_equal(equal_width(v, 5), np.array([0, 0, 1, 3, 4, 0, 2, 3])) or \\\n",
    "       np.array_equal(equal_width(v, 5), np.array([0, 0, 1, 3, 5, 0, 2, 3]))\n",
    "assert np.array_equal(equal_width(v, 3), np.array([0, 0, 0, 2, 2, 0, 1, 2])) or \\\n",
    "       np.array_equal(equal_width(v, 3), np.array([0, 0, 0, 2, 3, 0, 1, 2]))\n",
    "assert np.array_equal(equal_width(v, 1), np.array([0, 0, 0, 0, 0, 0, 0, 0])) or \\\n",
    "       np.array_equal(equal_width(v, 1), np.array([0, 0, 0, 0, 1, 0, 0, 0]))"
   ]
  },
  {
   "cell_type": "markdown",
   "metadata": {
    "deletable": false,
    "editable": false,
    "nbgrader": {
     "cell_type": "markdown",
     "checksum": "035f4795b048562b2d5d8b188994bdf8",
     "grade": false,
     "grade_id": "cell-265d8966da53c0e5",
     "locked": true,
     "schema_version": 3,
     "solution": false,
     "task": false
    }
   },
   "source": [
    "## 2.2 Equal-depth discretization\n",
    "\n",
    "In the following exercises, you will be writing code to discretize a defined numpy vector into equal-depth bins (each bin has the same number of elements). This time, you will use panda's cut function to do it."
   ]
  },
  {
   "cell_type": "code",
   "execution_count": 6,
   "metadata": {},
   "outputs": [
    {
     "data": {
      "text/plain": [
       "['low', 'low', 'low', 'low', 'low', 'low', 'high']\n",
       "Categories (2, object): ['low' < 'high']"
      ]
     },
     "execution_count": 6,
     "metadata": {},
     "output_type": "execute_result"
    }
   ],
   "source": [
    "# Is the cut function using equal-width or equal-frequency?\n",
    "pd.cut([1, 1, 1, 2, 3, 4, 100], 2, labels=[\"low\", \"high\"])"
   ]
  },
  {
   "cell_type": "code",
   "execution_count": 7,
   "metadata": {},
   "outputs": [
    {
     "data": {
      "text/plain": [
       "['low', 'low', 'low', 'low', 'high', 'high', 'high']\n",
       "Categories (2, object): ['low' < 'high']"
      ]
     },
     "execution_count": 7,
     "metadata": {},
     "output_type": "execute_result"
    }
   ],
   "source": [
    "# What about the qcut function?\n",
    "pd.qcut([1, 1, 1, 2, 3, 4, 100], 2, labels=[\"low\", \"high\"])"
   ]
  },
  {
   "cell_type": "code",
   "execution_count": 8,
   "metadata": {},
   "outputs": [
    {
     "data": {
      "text/plain": [
       "array([0, 0, 0, 0, 1, 1, 1])"
      ]
     },
     "execution_count": 8,
     "metadata": {},
     "output_type": "execute_result"
    }
   ],
   "source": [
    "# You can use these functions without \"labels\" as well:\n",
    "pd.qcut([1, 1, 1, 2, 3, 4, 100], 2, labels=False)"
   ]
  },
  {
   "cell_type": "code",
   "execution_count": 9,
   "metadata": {
    "deletable": false,
    "nbgrader": {
     "cell_type": "code",
     "checksum": "425a4bfe5c15948e3843c6f335722f83",
     "grade": false,
     "grade_id": "cell-60a18c7d7238a11f",
     "locked": false,
     "schema_version": 3,
     "solution": true,
     "task": false
    }
   },
   "outputs": [],
   "source": [
    "def equal_depth(v, n):\n",
    "    \"\"\"\n",
    "    Input: v: the vector to be discretized (np.array).\n",
    "           n: is the number of equal-frequency bins for discretization.\n",
    "    Output: an array of the same length as v, where each item indicates the\n",
    "            bin number (int value) of the corresponding item in v, starting at 0 for the\n",
    "            first bin.\n",
    "    Allowed Libraries: pd.cut(), pd.qcut() functions\n",
    "    \"\"\"\n",
    "    \n",
    "    return pd.qcut(v, n, labels=False)"
   ]
  },
  {
   "cell_type": "code",
   "execution_count": 10,
   "metadata": {},
   "outputs": [
    {
     "data": {
      "text/plain": [
       "array([0, 0, 1, 2, 3, 1, 2, 3])"
      ]
     },
     "execution_count": 10,
     "metadata": {},
     "output_type": "execute_result"
    }
   ],
   "source": [
    "# Test your function!\n",
    "v = np.array([1,6,13,40,56,7,23, 43])\n",
    "bin_index = equal_depth(v, 4)\n",
    "bin_index"
   ]
  },
  {
   "cell_type": "code",
   "execution_count": 11,
   "metadata": {
    "deletable": false,
    "editable": false,
    "nbgrader": {
     "cell_type": "code",
     "checksum": "860edbff2235b0efc86838be03cace04",
     "grade": true,
     "grade_id": "equal_depth",
     "locked": true,
     "points": 4,
     "schema_version": 3,
     "solution": false,
     "task": false
    }
   },
   "outputs": [],
   "source": [
    "np.testing.assert_array_equal(equal_depth(np.array([1,6,13,40,56,7,23,43]),4),np.array([0, 0, 1, 2, 3, 1, 2, 3]))"
   ]
  },
  {
   "cell_type": "markdown",
   "metadata": {},
   "source": [
    "**Remember**: Make sure to complete all problems (.ipynb files) in this assignment. When you finish, double-check the submission instructions at the top of this file, and submit on JupyterHub and Moodle."
   ]
  }
 ],
 "metadata": {
  "kernelspec": {
   "display_name": "Python 3",
   "language": "python",
   "name": "python3"
  },
  "language_info": {
   "codemirror_mode": {
    "name": "ipython",
    "version": 3
   },
   "file_extension": ".py",
   "mimetype": "text/x-python",
   "name": "python",
   "nbconvert_exporter": "python",
   "pygments_lexer": "ipython3",
   "version": "3.7.3"
  }
 },
 "nbformat": 4,
 "nbformat_minor": 4
}
