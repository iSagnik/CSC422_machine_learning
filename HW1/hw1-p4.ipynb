{
 "cells": [
  {
   "cell_type": "markdown",
   "metadata": {},
   "source": [
    "# Instructions\n",
    "\n",
    "1. Add your name and HW Group Number below.\n",
    "2. Complete each question. Make sure you fill in any place that says `YOUR CODE HERE` or \"YOUR ANSWER HERE\".\n",
    "3. Where applicable, run the test cases *below* each question to check your work. **Note**: In addition to the test cases you can see, the instructor may run additional test cases, including using *other datasets* to validate you code.\n",
    "4. Before you turn this problem in, make sure everything runs as expected. First, **restart the kernel** (in the menubar, select Kernel$\\rightarrow$Restart) and then **run all cells** (in the menubar, select Cell$\\rightarrow$Run All). You can also use the **Validate** button to run all test cases.\n",
    "5. Turn in your homework by going to the main screen in JupyterHub, clicking the Assignments menu, and submitting. **Also** make sure to turn in your homework on Moodle (so we have a backup copy).\n",
    "\n"
   ]
  },
  {
   "cell_type": "code",
   "execution_count": 1,
   "metadata": {},
   "outputs": [
    {
     "data": {
      "text/plain": [
       "'\\nName: Sagnik\\nHW Group Number: 32 \\n'"
      ]
     },
     "execution_count": 1,
     "metadata": {},
     "output_type": "execute_result"
    }
   ],
   "source": [
    "\"\"\"\n",
    "Name: Sagnik\n",
    "HW Group Number: 32 \n",
    "\"\"\""
   ]
  },
  {
   "cell_type": "markdown",
   "metadata": {
    "deletable": false,
    "editable": false,
    "nbgrader": {
     "cell_type": "markdown",
     "checksum": "2d1f548635a17311e423166fbf9c2053",
     "grade": false,
     "grade_id": "cell-df76861e6b3d5417",
     "locked": true,
     "schema_version": 3,
     "solution": false,
     "task": false
    }
   },
   "source": [
    "# Homework 1: Problem 4: PCA\n"
   ]
  },
  {
   "cell_type": "markdown",
   "metadata": {
    "deletable": false,
    "editable": false,
    "nbgrader": {
     "cell_type": "markdown",
     "checksum": "08af51d4d2ed46174139672840d862e3",
     "grade": false,
     "grade_id": "cell-445df16c3a9c5382",
     "locked": true,
     "schema_version": 3,
     "solution": false,
     "task": false
    }
   },
   "source": [
    "## Import all necessary libraries"
   ]
  },
  {
   "cell_type": "code",
   "execution_count": 2,
   "metadata": {
    "deletable": false,
    "editable": false,
    "nbgrader": {
     "cell_type": "code",
     "checksum": "4b2d059e0b874a56c1d84f4f921e9a51",
     "grade": false,
     "grade_id": "cell-1b92d511365b5816",
     "locked": true,
     "schema_version": 3,
     "solution": false,
     "task": false
    }
   },
   "outputs": [],
   "source": [
    "# you should be familiar with numpy, pandas and matplotlib from HW0\n",
    "import numpy as np\n",
    "import pandas as pd\n",
    "import matplotlib.pyplot as plt\n",
    "\n",
    "# we're using the Diabetes dataset from sklearn.datasets\n",
    "from sklearn import datasets\n",
    "\n",
    "# we will also be using the PCA library from scikit learn for this exercise\n",
    "from sklearn.decomposition import PCA\n",
    "\n",
    "# we will use the StandardScaler method to z-score normalize our data\n",
    "from sklearn.preprocessing import StandardScaler\n",
    "\n",
    "# Remember you have to run this cell block before continuing!"
   ]
  },
  {
   "cell_type": "markdown",
   "metadata": {
    "deletable": false,
    "editable": false,
    "nbgrader": {
     "cell_type": "markdown",
     "checksum": "319cbf07c8f2f217437488fe0231cbd8",
     "grade": false,
     "grade_id": "cell-5bcf0c3639b09868",
     "locked": true,
     "schema_version": 3,
     "solution": false,
     "task": false
    }
   },
   "source": [
    "## Loading data"
   ]
  },
  {
   "cell_type": "code",
   "execution_count": 3,
   "metadata": {},
   "outputs": [
    {
     "data": {
      "text/html": [
       "<div>\n",
       "<style scoped>\n",
       "    .dataframe tbody tr th:only-of-type {\n",
       "        vertical-align: middle;\n",
       "    }\n",
       "\n",
       "    .dataframe tbody tr th {\n",
       "        vertical-align: top;\n",
       "    }\n",
       "\n",
       "    .dataframe thead th {\n",
       "        text-align: right;\n",
       "    }\n",
       "</style>\n",
       "<table border=\"1\" class=\"dataframe\">\n",
       "  <thead>\n",
       "    <tr style=\"text-align: right;\">\n",
       "      <th></th>\n",
       "      <th>alcohol</th>\n",
       "      <th>malic_acid</th>\n",
       "      <th>ash</th>\n",
       "      <th>alcalinity_of_ash</th>\n",
       "      <th>magnesium</th>\n",
       "      <th>total_phenols</th>\n",
       "      <th>flavanoids</th>\n",
       "      <th>nonflavanoid_phenols</th>\n",
       "      <th>proanthocyanins</th>\n",
       "      <th>color_intensity</th>\n",
       "      <th>hue</th>\n",
       "      <th>od280/od315_of_diluted_wines</th>\n",
       "      <th>proline</th>\n",
       "    </tr>\n",
       "  </thead>\n",
       "  <tbody>\n",
       "    <tr>\n",
       "      <th>0</th>\n",
       "      <td>1.518613</td>\n",
       "      <td>-0.562250</td>\n",
       "      <td>0.232053</td>\n",
       "      <td>-1.169593</td>\n",
       "      <td>1.913905</td>\n",
       "      <td>0.808997</td>\n",
       "      <td>1.034819</td>\n",
       "      <td>-0.659563</td>\n",
       "      <td>1.224884</td>\n",
       "      <td>0.251717</td>\n",
       "      <td>0.362177</td>\n",
       "      <td>1.847920</td>\n",
       "      <td>1.013009</td>\n",
       "    </tr>\n",
       "    <tr>\n",
       "      <th>1</th>\n",
       "      <td>0.246290</td>\n",
       "      <td>-0.499413</td>\n",
       "      <td>-0.827996</td>\n",
       "      <td>-2.490847</td>\n",
       "      <td>0.018145</td>\n",
       "      <td>0.568648</td>\n",
       "      <td>0.733629</td>\n",
       "      <td>-0.820719</td>\n",
       "      <td>-0.544721</td>\n",
       "      <td>-0.293321</td>\n",
       "      <td>0.406051</td>\n",
       "      <td>1.113449</td>\n",
       "      <td>0.965242</td>\n",
       "    </tr>\n",
       "    <tr>\n",
       "      <th>2</th>\n",
       "      <td>0.196879</td>\n",
       "      <td>0.021231</td>\n",
       "      <td>1.109334</td>\n",
       "      <td>-0.268738</td>\n",
       "      <td>0.088358</td>\n",
       "      <td>0.808997</td>\n",
       "      <td>1.215533</td>\n",
       "      <td>-0.498407</td>\n",
       "      <td>2.135968</td>\n",
       "      <td>0.269020</td>\n",
       "      <td>0.318304</td>\n",
       "      <td>0.788587</td>\n",
       "      <td>1.395148</td>\n",
       "    </tr>\n",
       "    <tr>\n",
       "      <th>3</th>\n",
       "      <td>1.691550</td>\n",
       "      <td>-0.346811</td>\n",
       "      <td>0.487926</td>\n",
       "      <td>-0.809251</td>\n",
       "      <td>0.930918</td>\n",
       "      <td>2.491446</td>\n",
       "      <td>1.466525</td>\n",
       "      <td>-0.981875</td>\n",
       "      <td>1.032155</td>\n",
       "      <td>1.186068</td>\n",
       "      <td>-0.427544</td>\n",
       "      <td>1.184071</td>\n",
       "      <td>2.334574</td>\n",
       "    </tr>\n",
       "    <tr>\n",
       "      <th>4</th>\n",
       "      <td>0.295700</td>\n",
       "      <td>0.227694</td>\n",
       "      <td>1.840403</td>\n",
       "      <td>0.451946</td>\n",
       "      <td>1.281985</td>\n",
       "      <td>0.808997</td>\n",
       "      <td>0.663351</td>\n",
       "      <td>0.226796</td>\n",
       "      <td>0.401404</td>\n",
       "      <td>-0.319276</td>\n",
       "      <td>0.362177</td>\n",
       "      <td>0.449601</td>\n",
       "      <td>-0.037874</td>\n",
       "    </tr>\n",
       "    <tr>\n",
       "      <th>...</th>\n",
       "      <td>...</td>\n",
       "      <td>...</td>\n",
       "      <td>...</td>\n",
       "      <td>...</td>\n",
       "      <td>...</td>\n",
       "      <td>...</td>\n",
       "      <td>...</td>\n",
       "      <td>...</td>\n",
       "      <td>...</td>\n",
       "      <td>...</td>\n",
       "      <td>...</td>\n",
       "      <td>...</td>\n",
       "      <td>...</td>\n",
       "    </tr>\n",
       "    <tr>\n",
       "      <th>173</th>\n",
       "      <td>0.876275</td>\n",
       "      <td>2.974543</td>\n",
       "      <td>0.305159</td>\n",
       "      <td>0.301803</td>\n",
       "      <td>-0.332922</td>\n",
       "      <td>-0.985614</td>\n",
       "      <td>-1.424900</td>\n",
       "      <td>1.274310</td>\n",
       "      <td>-0.930179</td>\n",
       "      <td>1.142811</td>\n",
       "      <td>-1.392758</td>\n",
       "      <td>-1.231206</td>\n",
       "      <td>-0.021952</td>\n",
       "    </tr>\n",
       "    <tr>\n",
       "      <th>174</th>\n",
       "      <td>0.493343</td>\n",
       "      <td>1.412609</td>\n",
       "      <td>0.414820</td>\n",
       "      <td>1.052516</td>\n",
       "      <td>0.158572</td>\n",
       "      <td>-0.793334</td>\n",
       "      <td>-1.284344</td>\n",
       "      <td>0.549108</td>\n",
       "      <td>-0.316950</td>\n",
       "      <td>0.969783</td>\n",
       "      <td>-1.129518</td>\n",
       "      <td>-1.485445</td>\n",
       "      <td>0.009893</td>\n",
       "    </tr>\n",
       "    <tr>\n",
       "      <th>175</th>\n",
       "      <td>0.332758</td>\n",
       "      <td>1.744744</td>\n",
       "      <td>-0.389355</td>\n",
       "      <td>0.151661</td>\n",
       "      <td>1.422412</td>\n",
       "      <td>-1.129824</td>\n",
       "      <td>-1.344582</td>\n",
       "      <td>0.549108</td>\n",
       "      <td>-0.422075</td>\n",
       "      <td>2.224236</td>\n",
       "      <td>-1.612125</td>\n",
       "      <td>-1.485445</td>\n",
       "      <td>0.280575</td>\n",
       "    </tr>\n",
       "    <tr>\n",
       "      <th>176</th>\n",
       "      <td>0.209232</td>\n",
       "      <td>0.227694</td>\n",
       "      <td>0.012732</td>\n",
       "      <td>0.151661</td>\n",
       "      <td>1.422412</td>\n",
       "      <td>-1.033684</td>\n",
       "      <td>-1.354622</td>\n",
       "      <td>1.354888</td>\n",
       "      <td>-0.229346</td>\n",
       "      <td>1.834923</td>\n",
       "      <td>-1.568252</td>\n",
       "      <td>-1.400699</td>\n",
       "      <td>0.296498</td>\n",
       "    </tr>\n",
       "    <tr>\n",
       "      <th>177</th>\n",
       "      <td>1.395086</td>\n",
       "      <td>1.583165</td>\n",
       "      <td>1.365208</td>\n",
       "      <td>1.502943</td>\n",
       "      <td>-0.262708</td>\n",
       "      <td>-0.392751</td>\n",
       "      <td>-1.274305</td>\n",
       "      <td>1.596623</td>\n",
       "      <td>-0.422075</td>\n",
       "      <td>1.791666</td>\n",
       "      <td>-1.524378</td>\n",
       "      <td>-1.428948</td>\n",
       "      <td>-0.595160</td>\n",
       "    </tr>\n",
       "  </tbody>\n",
       "</table>\n",
       "<p>178 rows × 13 columns</p>\n",
       "</div>"
      ],
      "text/plain": [
       "      alcohol  malic_acid       ash  alcalinity_of_ash  magnesium  \\\n",
       "0    1.518613   -0.562250  0.232053          -1.169593   1.913905   \n",
       "1    0.246290   -0.499413 -0.827996          -2.490847   0.018145   \n",
       "2    0.196879    0.021231  1.109334          -0.268738   0.088358   \n",
       "3    1.691550   -0.346811  0.487926          -0.809251   0.930918   \n",
       "4    0.295700    0.227694  1.840403           0.451946   1.281985   \n",
       "..        ...         ...       ...                ...        ...   \n",
       "173  0.876275    2.974543  0.305159           0.301803  -0.332922   \n",
       "174  0.493343    1.412609  0.414820           1.052516   0.158572   \n",
       "175  0.332758    1.744744 -0.389355           0.151661   1.422412   \n",
       "176  0.209232    0.227694  0.012732           0.151661   1.422412   \n",
       "177  1.395086    1.583165  1.365208           1.502943  -0.262708   \n",
       "\n",
       "     total_phenols  flavanoids  nonflavanoid_phenols  proanthocyanins  \\\n",
       "0         0.808997    1.034819             -0.659563         1.224884   \n",
       "1         0.568648    0.733629             -0.820719        -0.544721   \n",
       "2         0.808997    1.215533             -0.498407         2.135968   \n",
       "3         2.491446    1.466525             -0.981875         1.032155   \n",
       "4         0.808997    0.663351              0.226796         0.401404   \n",
       "..             ...         ...                   ...              ...   \n",
       "173      -0.985614   -1.424900              1.274310        -0.930179   \n",
       "174      -0.793334   -1.284344              0.549108        -0.316950   \n",
       "175      -1.129824   -1.344582              0.549108        -0.422075   \n",
       "176      -1.033684   -1.354622              1.354888        -0.229346   \n",
       "177      -0.392751   -1.274305              1.596623        -0.422075   \n",
       "\n",
       "     color_intensity       hue  od280/od315_of_diluted_wines   proline  \n",
       "0           0.251717  0.362177                      1.847920  1.013009  \n",
       "1          -0.293321  0.406051                      1.113449  0.965242  \n",
       "2           0.269020  0.318304                      0.788587  1.395148  \n",
       "3           1.186068 -0.427544                      1.184071  2.334574  \n",
       "4          -0.319276  0.362177                      0.449601 -0.037874  \n",
       "..               ...       ...                           ...       ...  \n",
       "173         1.142811 -1.392758                     -1.231206 -0.021952  \n",
       "174         0.969783 -1.129518                     -1.485445  0.009893  \n",
       "175         2.224236 -1.612125                     -1.485445  0.280575  \n",
       "176         1.834923 -1.568252                     -1.400699  0.296498  \n",
       "177         1.791666 -1.524378                     -1.428948 -0.595160  \n",
       "\n",
       "[178 rows x 13 columns]"
      ]
     },
     "execution_count": 3,
     "metadata": {},
     "output_type": "execute_result"
    }
   ],
   "source": [
    "# let's load the Wine dataset and z-score normalize each column.\n",
    "# The dataset has 13 features and 178 data points.\n",
    "wine_sk = datasets.load_wine(as_frame=True)\n",
    "# z-score normalize the data using StandardScaler method from sklearn.preprocessing\n",
    "wine = pd.DataFrame(StandardScaler().fit_transform(wine_sk.data), columns = wine_sk.feature_names)\n",
    "# the nominal variable identifying the type of wine is stored in wine_type_for_each_datapoint variable\n",
    "# we'll use this variable for plotting later. \n",
    "wine_type_for_each_datapoint = wine_sk.target\n",
    "\n",
    "wine"
   ]
  },
  {
   "cell_type": "markdown",
   "metadata": {
    "deletable": false,
    "editable": false,
    "nbgrader": {
     "cell_type": "markdown",
     "checksum": "df5ceaa80ff357795e3b6cc7e957e1e4",
     "grade": false,
     "grade_id": "cell-c1694bc4582d3eed",
     "locked": true,
     "schema_version": 3,
     "solution": false,
     "task": false
    }
   },
   "source": [
    "## Examples\n",
    "\n",
    "You can perform PCA in python using the scikit-learn library. Take a look at the [documentation](https://scikit-learn.org/stable/modules/generated/sklearn.decomposition.PCA.html) to get a clear understanding of all function arguments.\n",
    "\n",
    "Given below is a simple toy example for you to learn how to use PCA. "
   ]
  },
  {
   "cell_type": "code",
   "execution_count": 4,
   "metadata": {
    "deletable": false,
    "editable": false,
    "nbgrader": {
     "cell_type": "code",
     "checksum": "a57d6eb82bcfab242cace89ea19e2f3f",
     "grade": false,
     "grade_id": "cell-def830bb53f756ad",
     "locked": true,
     "schema_version": 3,
     "solution": false,
     "task": false
    }
   },
   "outputs": [],
   "source": [
    "# let's use a toy dataset to demonstrate PCA. We are using the iris dataset from sklearn.datasets as our toy dataset.\n",
    "# We will apply PCA on it and extract the first two principal components. \n",
    "# While there are ways to directly extract the principal components using the sklearn methods, for the purpose \n",
    "# of this exercise, we will first extract the eigen vectors and then calculate the principal components from these eigen vectors. \n",
    "\n",
    "# first, load and z-score normalize the data\n",
    "toy_dataset_sk = datasets.load_iris(as_frame=True)\n",
    "toy_dataset = pd.DataFrame(StandardScaler().fit_transform(toy_dataset_sk.data), columns = toy_dataset_sk.feature_names)\n",
    "\n",
    "# Display the dataset for your reference\n",
    "# note that you can use the display() method to display your pandas dataframe in Jupyter\n",
    "#display(toy_dataset)\n",
    "\n",
    "# apply PCA on the toy dataset and extract the eigen vectors of the first two principal components\n",
    "toy_pca = PCA(n_components = 2).fit(toy_dataset)\n",
    "toy_eigen_vectors = toy_pca.components_\n",
    "\n",
    "# now extract the first two principal components\n",
    "# Recall from class material how to do this.  \n",
    "# Take a look at matrix multiplication using numpy here: \n",
    "# https://numpy.org/doc/stable/reference/generated/numpy.matmul.html\n",
    "toy_principal_components = np.matmul(toy_dataset.values , toy_eigen_vectors.T)\n"
   ]
  },
  {
   "cell_type": "code",
   "execution_count": 5,
   "metadata": {},
   "outputs": [
    {
     "data": {
      "text/plain": [
       "array([[ 0.52106591, -0.26934744,  0.5804131 ,  0.56485654],\n",
       "       [ 0.37741762,  0.92329566,  0.02449161,  0.06694199]])"
      ]
     },
     "execution_count": 5,
     "metadata": {},
     "output_type": "execute_result"
    }
   ],
   "source": [
    "# Explore the outputs of the eigen vectors and principal components to gain a better understanding\n",
    "# Explore other outputs...\n",
    "toy_eigen_vectors"
   ]
  },
  {
   "cell_type": "markdown",
   "metadata": {
    "deletable": false,
    "editable": false,
    "nbgrader": {
     "cell_type": "markdown",
     "checksum": "65806fac228b8b12c013d77adb0f91ca",
     "grade": false,
     "grade_id": "cell-5ba4a2707304846b",
     "locked": true,
     "schema_version": 3,
     "solution": false,
     "task": false
    }
   },
   "source": [
    "## Problem 4.1: Extracting Eigen Vectors"
   ]
  },
  {
   "cell_type": "code",
   "execution_count": 6,
   "metadata": {
    "deletable": false,
    "nbgrader": {
     "cell_type": "code",
     "checksum": "6b47acd257ad0f329bf7f36199b35317",
     "grade": false,
     "grade_id": "cell-6152d574d0b6274e",
     "locked": false,
     "schema_version": 3,
     "solution": true,
     "task": false
    }
   },
   "outputs": [],
   "source": [
    "# Problem 1\n",
    "def principal_component_analysis(data, n_components):\n",
    "    \"\"\"\n",
    "    Input: \n",
    "          data: Data frame with M numeric attributes.\n",
    "          n_components: the number of principal components to calculate \n",
    "                        (e.g. 2 for two principal components)\n",
    "    Output:\n",
    "          a numpy array of floating point numbers of shape (n_components, M), \n",
    "          containing the first n_components eigen vectors.\n",
    "            \n",
    "    \"\"\"\n",
    "    toy_pca = PCA(n_components = n_components).fit(data)\n",
    "    return toy_pca.components_"
   ]
  },
  {
   "cell_type": "code",
   "execution_count": 7,
   "metadata": {},
   "outputs": [
    {
     "data": {
      "text/plain": [
       "(2, 13)"
      ]
     },
     "execution_count": 7,
     "metadata": {},
     "output_type": "execute_result"
    }
   ],
   "source": [
    "# Test your function!\n",
    "# note that you can convert your pandas data frame into a numpy matrix by using the dataframe.values property\n",
    "eigen_vectors = principal_component_analysis(wine.values, 2)\n",
    "# Each of the 2 eigen vectors should have a value/weight for each of the original 13 attributes\n",
    "eigen_vectors.shape"
   ]
  },
  {
   "cell_type": "code",
   "execution_count": 8,
   "metadata": {
    "deletable": false,
    "editable": false,
    "nbgrader": {
     "cell_type": "code",
     "checksum": "52836c043fbc40e1f90a2a5dc898b829",
     "grade": true,
     "grade_id": "principal_component_analysis",
     "locked": true,
     "points": 5,
     "schema_version": 3,
     "solution": false,
     "task": false
    }
   },
   "outputs": [],
   "source": [
    "assert principal_component_analysis(wine.values, 2).shape == (2, 13)\n",
    "np.testing.assert_almost_equal(principal_component_analysis(wine.values, 2)[0, :], np.array([ 0.1443294 , -0.24518758, -0.00205106, -0.23932041,  0.14199204,\n",
    "         0.39466085,  0.4229343 , -0.2985331 ,  0.31342949, -0.0886167 ,\n",
    "         0.29671456,  0.37616741,  0.28675223]))"
   ]
  },
  {
   "cell_type": "markdown",
   "metadata": {
    "deletable": false,
    "editable": false,
    "nbgrader": {
     "cell_type": "markdown",
     "checksum": "ae1d2e6c8575710c81bad8633b05c4dc",
     "grade": false,
     "grade_id": "cell-b8065cf6aaf5b93c",
     "locked": true,
     "schema_version": 3,
     "solution": false,
     "task": false
    }
   },
   "source": [
    "## Problem 4.2: Calculating Principal Components from Eigen Vectors"
   ]
  },
  {
   "cell_type": "code",
   "execution_count": 9,
   "metadata": {
    "deletable": false,
    "nbgrader": {
     "cell_type": "code",
     "checksum": "db5cc1bfcd8ae380dc49fd2459a1efcd",
     "grade": false,
     "grade_id": "cell-a0918b9ed5f10497",
     "locked": false,
     "schema_version": 3,
     "solution": true,
     "task": false
    }
   },
   "outputs": [],
   "source": [
    "# Problem 2\n",
    "def principal_component_calculation(data, component_weights):\n",
    "    \"\"\"\n",
    "    Input: \n",
    "          data: A data frame with N rows and M numeric attributes (e.g. 178 x 13). \n",
    "          component_weights: a numpy array of shape (n_components, M) containing the weights (eigen vector) of \n",
    "          the first n_components principal components \n",
    "          (i.e. the output from running principal_component_analysis from problem 1)\n",
    "    Output:\n",
    "          a numpy array of shape (N, n_components) ontaining the n_components principal components,\n",
    "          calculated for each of the N rows in data.\n",
    "    Hint: Can you solve this with matrix multiplication? Check out the np.matmul function.\n",
    "    \"\"\"\n",
    "    return np.matmul(data , component_weights.T)\n"
   ]
  },
  {
   "cell_type": "code",
   "execution_count": 10,
   "metadata": {},
   "outputs": [
    {
     "name": "stdout",
     "output_type": "stream",
     "text": [
      "Principal components are = [[ 3.31675081 -1.44346263]\n",
      " [ 2.20946492  0.33339289]\n",
      " [ 2.51674015 -1.0311513 ]\n",
      " [ 3.75706561 -2.75637191]\n",
      " [ 1.00890849 -0.86983082]\n",
      " [ 3.05025392 -2.12240111]\n",
      " [ 2.44908967 -1.17485013]\n",
      " [ 2.05943687 -1.60896307]\n",
      " [ 2.5108743  -0.91807096]\n",
      " [ 2.75362819 -0.78943767]\n",
      " [ 3.47973668 -1.30233324]\n",
      " [ 1.7547529  -0.61197723]\n",
      " [ 2.11346234 -0.67570634]\n",
      " [ 3.45815682 -1.13062988]\n",
      " [ 4.31278391 -2.09597558]\n",
      " [ 2.3051882  -1.66255173]\n",
      " [ 2.17195527 -2.32730534]\n",
      " [ 1.89897118 -1.63136888]\n",
      " [ 3.54198508 -2.51834367]\n",
      " [ 2.0845222  -1.06113799]\n",
      " [ 3.12440254 -0.78689711]\n",
      " [ 1.08657007 -0.24174355]\n",
      " [ 2.53522408  0.09184062]\n",
      " [ 1.64498834  0.51627893]\n",
      " [ 1.76157587  0.31714893]\n",
      " [ 0.9900791  -0.94066734]\n",
      " [ 1.77527763 -0.68617513]\n",
      " [ 1.23542396  0.08980704]\n",
      " [ 2.18840633 -0.68956962]\n",
      " [ 2.25610898 -0.19146194]\n",
      " [ 2.50022003 -1.24083383]\n",
      " [ 2.67741105 -1.47187365]\n",
      " [ 1.62857912 -0.05270445]\n",
      " [ 1.90269086 -1.63306043]\n",
      " [ 1.41038853 -0.69793432]\n",
      " [ 1.90382623 -0.17671095]\n",
      " [ 1.38486223 -0.65863985]\n",
      " [ 1.12220741 -0.11410976]\n",
      " [ 1.5021945   0.76943201]\n",
      " [ 2.52980109 -1.80300198]\n",
      " [ 2.58809543 -0.7796163 ]\n",
      " [ 0.66848199 -0.16996094]\n",
      " [ 3.07080699 -1.15591896]\n",
      " [ 0.46220914 -0.33074213]\n",
      " [ 2.10135193  0.07100892]\n",
      " [ 1.13616618 -1.77710739]\n",
      " [ 2.72660096 -1.19133469]\n",
      " [ 2.82133927 -0.6462586 ]\n",
      " [ 2.00985085 -1.24702946]\n",
      " [ 2.7074913  -1.75196741]\n",
      " [ 3.21491747 -0.16699199]\n",
      " [ 2.85895983 -0.7452788 ]\n",
      " [ 3.50560436 -1.61273386]\n",
      " [ 2.22479138 -1.875168  ]\n",
      " [ 2.14698782 -1.01675154]\n",
      " [ 2.46932948 -1.32900831]\n",
      " [ 2.74151791 -1.43654878]\n",
      " [ 2.17374092 -1.21219984]\n",
      " [ 3.13938015 -1.73157912]\n",
      " [-0.92858197  3.07348616]\n",
      " [-1.54248014  1.38144351]\n",
      " [-1.83624976  0.82998412]\n",
      " [ 0.03060683  1.26278614]\n",
      " [ 2.05026161  1.9250326 ]\n",
      " [-0.60968083  1.90805881]\n",
      " [ 0.90022784  0.76391147]\n",
      " [ 2.24850719  1.88459248]\n",
      " [ 0.18338403  2.42714611]\n",
      " [-0.81280503  0.22051399]\n",
      " [ 1.9756205   1.40328323]\n",
      " [-1.57221622  0.88498314]\n",
      " [ 1.65768181  0.9567122 ]\n",
      " [-0.72537239  1.0636454 ]\n",
      " [ 2.56222717 -0.26019855]\n",
      " [ 1.83256757  1.2878782 ]\n",
      " [-0.8679929   2.44410119]\n",
      " [ 0.3700144   2.15390698]\n",
      " [-1.45737704  1.38335177]\n",
      " [ 1.26293085  0.77084953]\n",
      " [ 0.37615037  1.0270434 ]\n",
      " [ 0.7620639   3.37505381]\n",
      " [ 1.03457797  1.45070974]\n",
      " [-0.49487676  2.38124353]\n",
      " [-2.53897708  0.08744336]\n",
      " [ 0.83532015  1.47367055]\n",
      " [ 0.78790461  2.02662652]\n",
      " [-0.80683216  2.23383039]\n",
      " [-0.55804262  2.37298543]\n",
      " [-1.11511104  1.80224719]\n",
      " [-0.55572283  2.65754004]\n",
      " [-1.34928528  2.11800147]\n",
      " [-1.56448261  1.85221452]\n",
      " [-1.93255561  1.55949546]\n",
      " [ 0.74666594  2.31293171]\n",
      " [ 0.95745536  2.22352843]\n",
      " [ 2.54386518 -0.16927402]\n",
      " [-0.54395259  0.36892655]\n",
      " [ 1.03104975  2.56556935]\n",
      " [ 2.25190942  1.43274138]\n",
      " [ 1.41021602  2.16619177]\n",
      " [ 0.79771979  2.3769488 ]\n",
      " [-0.54953173  2.29312864]\n",
      " [-0.16117374  1.16448332]\n",
      " [-0.65979494  2.67996119]\n",
      " [ 0.39235441  2.09873171]\n",
      " [-1.77249908  1.71728847]\n",
      " [-0.36626736  2.1693533 ]\n",
      " [-1.62067257  1.35558339]\n",
      " [ 0.08253578  2.30623459]\n",
      " [ 1.57827507  1.46203429]\n",
      " [ 1.42056925  1.41820664]\n",
      " [-0.27870275  1.93056809]\n",
      " [-1.30314497  0.76317231]\n",
      " [-0.45707187  2.26941561]\n",
      " [-0.49418585  1.93904505]\n",
      " [ 0.48207441  3.87178385]\n",
      " [-0.25288888  2.82149237]\n",
      " [-0.10722764  1.92892204]\n",
      " [-2.4330126   1.25714104]\n",
      " [-0.55108954  2.22216155]\n",
      " [ 0.73962193  1.40895667]\n",
      " [ 1.33632173 -0.25333693]\n",
      " [-1.177087    0.66396684]\n",
      " [-0.46233501  0.61828818]\n",
      " [ 0.97847408  1.4455705 ]\n",
      " [-0.09680973  2.10999799]\n",
      " [ 0.03848715  1.26676211]\n",
      " [-1.5971585   1.20814357]\n",
      " [-0.47956492  1.93884066]\n",
      " [-1.79283347  1.1502881 ]\n",
      " [-1.32710166 -0.17038923]\n",
      " [-2.38450083 -0.37458261]\n",
      " [-2.9369401  -0.26386183]\n",
      " [-2.14681113 -0.36825495]\n",
      " [-2.36986949  0.45963481]\n",
      " [-3.06384157 -0.35341284]\n",
      " [-3.91575378 -0.15458252]\n",
      " [-3.93646339 -0.65968723]\n",
      " [-3.09427612 -0.34884276]\n",
      " [-2.37447163 -0.29198035]\n",
      " [-2.77881295 -0.28680487]\n",
      " [-2.28656128 -0.37250784]\n",
      " [-2.98563349 -0.48921791]\n",
      " [-2.3751947  -0.48233372]\n",
      " [-2.20986553 -1.1600525 ]\n",
      " [-2.625621   -0.56316076]\n",
      " [-4.28063878 -0.64967096]\n",
      " [-3.58264137 -1.27270275]\n",
      " [-2.80706372 -1.57053379]\n",
      " [-2.89965933 -2.04105701]\n",
      " [-2.32073698 -2.35636608]\n",
      " [-2.54983095 -2.04528309]\n",
      " [-1.81254128 -1.52764595]\n",
      " [-2.76014464 -2.13893235]\n",
      " [-2.7371505  -0.40988627]\n",
      " [-3.60486887 -1.80238422]\n",
      " [-2.889826   -1.92521861]\n",
      " [-3.39215608 -1.31187639]\n",
      " [-1.0481819  -3.51508969]\n",
      " [-1.60991228 -2.40663816]\n",
      " [-3.14313097 -0.73816104]\n",
      " [-2.2401569  -1.17546529]\n",
      " [-2.84767378 -0.55604397]\n",
      " [-2.59749706 -0.69796554]\n",
      " [-2.94929937 -1.55530896]\n",
      " [-3.53003227 -0.8825268 ]\n",
      " [-2.40611054 -2.59235618]\n",
      " [-2.92908473 -1.27444695]\n",
      " [-2.18141278 -2.07753731]\n",
      " [-2.38092779 -2.58866743]\n",
      " [-3.21161722  0.2512491 ]\n",
      " [-3.67791872 -0.84774784]\n",
      " [-2.4655558  -2.1937983 ]\n",
      " [-3.37052415 -2.21628914]\n",
      " [-2.60195585 -1.75722935]\n",
      " [-2.67783946 -2.76089913]\n",
      " [-2.38701709 -2.29734668]\n",
      " [-3.20875816 -2.76891957]] and their shape is (178, 2)\n"
     ]
    }
   ],
   "source": [
    "# Test your function\n",
    "\n",
    "# note that eigen_vectors are the eigen vectors you calculated earlier using principal_component_analysis. \n",
    "# We're calculating it again here for ease of use\n",
    "eigen_vectors = principal_component_analysis(wine.values, 2)\n",
    "principal_component_values = principal_component_calculation(wine.values, eigen_vectors)\n",
    "print(f'Principal components are = {principal_component_values} and their shape is {principal_component_values.shape}')"
   ]
  },
  {
   "cell_type": "code",
   "execution_count": 11,
   "metadata": {
    "deletable": false,
    "editable": false,
    "nbgrader": {
     "cell_type": "code",
     "checksum": "0c24192ce7ca7f4c46dd8d5d72597da8",
     "grade": true,
     "grade_id": "principal_component_calculation",
     "locked": true,
     "points": 3,
     "schema_version": 3,
     "solution": false,
     "task": false
    }
   },
   "outputs": [],
   "source": [
    "test_eigen_vectors = principal_component_analysis(wine.values, 2)\n",
    "test_pc = principal_component_calculation(wine.values, test_eigen_vectors)\n",
    "assert test_pc.shape == (wine.values.shape[0], 2)\n",
    "np.testing.assert_almost_equal(test_pc[0, :],[ 3.31675081, -1.44346263] )"
   ]
  },
  {
   "cell_type": "markdown",
   "metadata": {
    "deletable": false,
    "editable": false,
    "nbgrader": {
     "cell_type": "markdown",
     "checksum": "4728cc17b2d3e57fdd35215f3fe9fb07",
     "grade": false,
     "grade_id": "cell-b1eb7d2a4006c6a3",
     "locked": true,
     "schema_version": 3,
     "solution": false,
     "task": false
    }
   },
   "source": [
    "## Problem 4.3: Visualize your results\n",
    "\n",
    "You've gained familiarity with matplotlib in HW0. Now use matplotlib to\n",
    "\n",
    "a) generate a plot with the first principal component on x-axis, second principal component on y-axis. \n",
    "\n",
    "b) Assign color to each data point according to the type of wine. You can do this using the wine_type_for_each_datapoint variable.  \n",
    "\n",
    "***Hint 1:*** Take a look at the [plt.scatter](https://matplotlib.org/3.3.3/api/_as_gen/matplotlib.pyplot.scatter.html) function. Pay close attention to the 'c' variable. \n",
    "\n",
    "c) Name the x-axis as \"PC1\", y-axis as \"PC2\""
   ]
  },
  {
   "cell_type": "code",
   "execution_count": 12,
   "metadata": {},
   "outputs": [
    {
     "data": {
      "image/png": "[encoded data removed]",
      "text/plain": [
       "<Figure size 432x288 with 1 Axes>"
      ]
     },
     "metadata": {
      "needs_background": "light"
     },
     "output_type": "display_data"
    }
   ],
   "source": [
    "# This is an example of a scatter plot, using the alcohol and malic_acid attributes\n",
    "plt.scatter(wine.values[:, 0], wine.values[:, 1], c=wine_type_for_each_datapoint)\n",
    "plt.xlabel(\"Alcohol\")\n",
    "plt.ylabel(\"Malic acid\")\n",
    "plt.show()\n",
    "\n",
    "# How well does this plot separate the 3 differnt types of wine?"
   ]
  },
  {
   "cell_type": "code",
   "execution_count": 16,
   "metadata": {
    "deletable": false,
    "nbgrader": {
     "cell_type": "code",
     "checksum": "fa3baf0c242c84cc951da5cf6a7ef605",
     "grade": true,
     "grade_id": "cell-c684b0d6c8af3bab",
     "locked": false,
     "points": 4,
     "schema_version": 3,
     "solution": true,
     "task": false
    }
   },
   "outputs": [
    {
     "data": {
      "image/png": "[encoded data removed]",
      "text/plain": [
       "<Figure size 432x288 with 1 Axes>"
      ]
     },
     "metadata": {
      "needs_background": "light"
     },
     "output_type": "display_data"
    }
   ],
   "source": [
    "# Problem 3 (see question above)\n",
    "\n",
    "# recalculating eigen vectors and principal components for ease of use\n",
    "eigen_vectors = principal_component_analysis(wine.values, 2)\n",
    "principal_component_values = principal_component_calculation(wine.values, eigen_vectors)\n",
    "\n",
    "plt.scatter(principal_component_values[:, 0], principal_component_values[:, 1], c=wine_type_for_each_datapoint)\n",
    "plt.xlabel(\"PC1\")\n",
    "plt.ylabel(\"PC2\")\n",
    "plt.show()\n"
   ]
  },
  {
   "cell_type": "markdown",
   "metadata": {},
   "source": [
    "**Remember**: Make sure to complete all problems (.ipynb files) in this assignment. When you finish, double-check the submission instructions at the top of this file, and submit on JupyterHub and Moodle."
   ]
  }
 ],
 "metadata": {
  "kernelspec": {
   "display_name": "Python 3",
   "language": "python",
   "name": "python3"
  },
  "language_info": {
   "codemirror_mode": {
    "name": "ipython",
    "version": 3
   },
   "file_extension": ".py",
   "mimetype": "text/x-python",
   "name": "python",
   "nbconvert_exporter": "python",
   "pygments_lexer": "ipython3",
   "version": "3.7.3"
  }
 },
 "nbformat": 4,
 "nbformat_minor": 4
}
