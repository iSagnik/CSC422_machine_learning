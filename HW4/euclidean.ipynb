{
 "metadata": {
  "language_info": {
   "codemirror_mode": {
    "name": "ipython",
    "version": 3
   },
   "file_extension": ".py",
   "mimetype": "text/x-python",
   "name": "python",
   "nbconvert_exporter": "python",
   "pygments_lexer": "ipython3",
   "version": "3.9.2"
  },
  "orig_nbformat": 2,
  "kernelspec": {
   "name": "python392jvsc74a57bd0c569cd2e17f62341e0f08a54f9a867c3c0d3a6f67454072d7de41a8b5dff8343",
   "display_name": "Python 3.9.2 64-bit"
  }
 },
 "nbformat": 4,
 "nbformat_minor": 2,
 "cells": [
  {
   "cell_type": "code",
   "execution_count": 2,
   "metadata": {},
   "outputs": [
    {
     "output_type": "stream",
     "name": "stdout",
     "text": [
      "[[0.         5.48292805]\n [7.21110255 2.01556444]\n [2.23606798 3.473111  ]\n [9.21954446 3.75      ]\n [3.60555128 2.13600094]]\n"
     ]
    }
   ],
   "source": [
    "from sklearn.metrics.pairwise import euclidean_distances\n",
    "\n",
    "# X = [\n",
    "#     [5.56, 1.25],\n",
    "#     [3.61, 3.33],\n",
    "#     [8.06, 5.0],\n",
    "#     [3.89, 4.17],\n",
    "#     [10.0, 7.5],\n",
    "#     [2.78, 7.08],\n",
    "#     [1.94, 0.0],\n",
    "#     [2.22, 6.25],\n",
    "#     [6.11, 4.17]\n",
    "# ]\n",
    "X = [\n",
    "    [2,1],\n",
    "    [8,5],\n",
    "    [3,3],\n",
    "    [9,7],\n",
    "    [4,4]\n",
    "]\n",
    "Y = [\n",
    "    [2,1],\n",
    "    [6, 4.75]\n",
    "]\n",
    "matrix = euclidean_distances(X, Y)\n",
    "print(matrix)\n",
    "with open(\"dist-matrix2.csv\", 'w') as fx:\n",
    "    for row in matrix:\n",
    "        for item in row:\n",
    "            fx.write(str(item) + \",\")\n",
    "        fx.write(\"\\n\")\n"
   ]
  }
 ]
}