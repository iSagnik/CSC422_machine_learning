{
 "metadata": {
  "language_info": {
   "codemirror_mode": {
    "name": "ipython",
    "version": 3
   },
   "file_extension": ".py",
   "mimetype": "text/x-python",
   "name": "python",
   "nbconvert_exporter": "python",
   "pygments_lexer": "ipython3",
   "version": "3.9.2"
  },
  "orig_nbformat": 2,
  "kernelspec": {
   "name": "python392jvsc74a57bd0c569cd2e17f62341e0f08a54f9a867c3c0d3a6f67454072d7de41a8b5dff8343",
   "display_name": "Python 3.9.2 64-bit"
  }
 },
 "nbformat": 4,
 "nbformat_minor": 2,
 "cells": [
  {
   "cell_type": "code",
   "execution_count": 4,
   "metadata": {},
   "outputs": [
    {
     "output_type": "stream",
     "name": "stdout",
     "text": [
      "[[ 5.2497619   4.13823634  4.        ]\n [ 3.96988665  4.31566913  8.54400375]\n [ 3.96988665  1.90394328  3.60555128]\n [ 3.84187454  7.15017482 11.3137085 ]\n [ 5.9464275   3.95284708  7.        ]\n [ 0.6         3.02076149  7.07106781]\n [ 4.23792402  5.4886246   7.07106781]\n [ 7.50732975  4.37321392  0.        ]\n [ 2.0880613   2.85043856  5.83095189]\n [ 3.73630834  2.26384628  6.32455532]]\n"
     ]
    }
   ],
   "source": [
    "from sklearn.metrics.pairwise import euclidean_distances\n",
    "\n",
    "# X = [\n",
    "#     [5.56, 1.25],\n",
    "#     [3.61, 3.33],\n",
    "#     [8.06, 5.0],\n",
    "#     [3.89, 4.17],\n",
    "#     [10.0, 7.5],\n",
    "#     [2.78, 7.08],\n",
    "#     [1.94, 0.0],\n",
    "#     [2.22, 6.25],\n",
    "#     [6.11, 4.17]\n",
    "# ]\n",
    "X = [\n",
    "    [9,5],\n",
    "    [1,4],\n",
    "    [7,4],\n",
    "    [1,9],\n",
    "    [2,1],\n",
    "    [4,6],\n",
    "    [8,8],\n",
    "    [9,1],\n",
    "    [6,6],\n",
    "    [3,3]\n",
    "]\n",
    "Y = [\n",
    "    [4,6.6],\n",
    "    [5.25, 3.25],\n",
    "    [9, 1]\n",
    "]\n",
    "matrix = euclidean_distances(X, Y)\n",
    "print(matrix)\n",
    "with open(\"dist-matrix.csv\", 'w') as fx:\n",
    "    for row in matrix:\n",
    "        for item in row:\n",
    "            fx.write(str(item) + \",\")\n",
    "        fx.write(\"\\n\")\n"
   ]
  }
 ]
}