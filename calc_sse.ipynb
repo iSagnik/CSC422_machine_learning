{
 "metadata": {
  "language_info": {
   "codemirror_mode": {
    "name": "ipython",
    "version": 3
   },
   "file_extension": ".py",
   "mimetype": "text/x-python",
   "name": "python",
   "nbconvert_exporter": "python",
   "pygments_lexer": "ipython3",
   "version": "3.9.2"
  },
  "orig_nbformat": 2,
  "kernelspec": {
   "name": "python392jvsc74a57bd0c569cd2e17f62341e0f08a54f9a867c3c0d3a6f67454072d7de41a8b5dff8343",
   "display_name": "Python 3.9.2 64-bit"
  }
 },
 "nbformat": 4,
 "nbformat_minor": 2,
 "cells": [
  {
   "cell_type": "code",
   "execution_count": 15,
   "metadata": {},
   "outputs": [
    {
     "output_type": "stream",
     "name": "stdout",
     "text": [
      "33.5\n"
     ]
    }
   ],
   "source": [
    "import numpy as np\n",
    "\n",
    "def sse(clusters, centroid):\n",
    "    sse = 0\n",
    "    for point in clusters:\n",
    "        sse += np.linalg.norm(centroid - point) ** 2\n",
    "    return sse\n",
    "\n",
    "clusters = np.array([\n",
    "    [1,9],\n",
    "    [4,6],\n",
    "    [8,8],\n",
    "    [6,6]\n",
    "])\n",
    "centroid = np.array((4.75, 7.25))\n",
    "\n",
    "print(sse(clusters, centroid))\n"
   ]
  }
 ]
}