{
 "metadata": {
  "language_info": {
   "codemirror_mode": {
    "name": "ipython",
    "version": 3
   },
   "file_extension": ".py",
   "mimetype": "text/x-python",
   "name": "python",
   "nbconvert_exporter": "python",
   "pygments_lexer": "ipython3",
   "version": "3.9.1-final"
  },
  "orig_nbformat": 2,
  "kernelspec": {
   "name": "python3",
   "display_name": "Python 3.9.1 64-bit",
   "metadata": {
    "interpreter": {
     "hash": "c569cd2e17f62341e0f08a54f9a867c3c0d3a6f67454072d7de41a8b5dff8343"
    }
   }
  }
 },
 "nbformat": 4,
 "nbformat_minor": 2,
 "cells": [
  {
   "cell_type": "code",
   "execution_count": 2,
   "metadata": {},
   "outputs": [
    {
     "output_type": "stream",
     "name": "stdout",
     "text": [
      "   Pclass     Sex    Embarked       Fare Survival\n0   Upper    Male   Cherbourg  Expensive        F\n1   Upper  Female   Cherbourg  Expensive        T\n3   Upper  Female  Queenstown  Expensive        T\n9   Upper    Male   Cherbourg  Expensive        T\n10  Upper    Male   Cherbourg  Expensive        T\n12  Upper    Male  Queenstown      Cheap        F\n15  Upper    Male   Cherbourg      Cheap        T\nTotal Entropy:  0.863120568566631 \n\nColumn:  Pclass\nEntropy for  Upper :  0.863120568566631\n\nIg gain for  Pclass :  0.0\nColumn:  Sex\nEntropy for  Male :  0.9709505944546686\nEntropy for  Female :  -0.0\n\nIg gain for  Sex :  0.16958442967043919\nColumn:  Embarked\nEntropy for  Cherbourg :  0.7219280948873623\nEntropy for  Queenstown :  1.0\n\nIg gain for  Embarked :  0.061743357932800724\nColumn:  Fare\nEntropy for  Expensive :  0.7219280948873623\nEntropy for  Cheap :  1.0\n\nIg gain for  Fare :  0.061743357932800724\nThe root attribute is:  Sex  with IG:  0.16958442967043919\n"
     ]
    }
   ],
   "source": [
    "from math import log2\n",
    "import pandas as pd\n",
    "\n",
    "# calculate the entropy for the split in the dataset\n",
    "def entropy(class0, class1):\n",
    "    if  class0 == 0:\n",
    "        log_c1 = 0\n",
    "        log_c2 = log2(class1)\n",
    "    elif class1 == 0:\n",
    "        log_c2 = 0\n",
    "        log_c1 = log2(class0)\n",
    "    else:    \n",
    "        log_c1 = log2(class0)\n",
    "        log_c2 = log2(class1)\n",
    "\n",
    "    return -(class0 * log_c1 + class1 * log_c2)\n",
    "\n",
    "def calculateRootAttribute(titanic_data):\n",
    "    #print(titanic_data.shape[0])\n",
    "    #calculate H(Li) for the last column\n",
    "    true, false = titanic_data[\"Survival\"].value_counts()\n",
    "\n",
    "\n",
    "    tot_length = titanic_data.shape[0]\n",
    "    #print(tot_length)\n",
    "\n",
    "    true_split = true / tot_length\n",
    "    false_split = false / tot_length\n",
    "    tot_entropy = entropy(true_split, false_split)\n",
    "    print(\"Total Entropy: \", tot_entropy, \"\\n\") \n",
    "\n",
    "    titanic_data_iter = titanic_data.drop(labels=\"Survival\", axis = 1)\n",
    "\n",
    "\n",
    "    ig_gains_list = []\n",
    "    #calculate IG for each attribute\n",
    "    for column in titanic_data_iter:\n",
    "        #get all the unique classifiers in the column\n",
    "        classifiers = titanic_data[column].unique()\n",
    "        print(\"Column: \", column)\n",
    "        entropies_list = []\n",
    "        #print(classifiers)\n",
    "        for item in classifiers:\n",
    "            subset = titanic_data.loc[titanic_data[column] == item]\n",
    "            #print(subset)\n",
    "            length = subset.shape[0]\n",
    "            true_bool_series = subset.apply(lambda x: True if x['Survival'] == 'T' else False, axis = 1)\n",
    "            true = len(true_bool_series[true_bool_series == True].index)\n",
    "            false = len(true_bool_series[true_bool_series == False].index)\n",
    "            #print(item,\" true: \", true)\n",
    "            #print(item,\" false: \", false)\n",
    "            #print(length)\n",
    "            true_split = true / length\n",
    "            false_split = false / length\n",
    "            #print(true_split)\n",
    "            attr_entropy = entropy(true_split, false_split)\n",
    "            print(\"Entropy for \", item, \": \", attr_entropy)\n",
    "            split_length = length/tot_length\n",
    "            #print(\"Split length: \", split_length)\n",
    "            entropies_list.append((attr_entropy, split_length ))\n",
    "            #print(entropies_list)\n",
    "\n",
    "        #ig gain for the column\n",
    "        split_entropy_value = 0.0\n",
    "        for item in entropies_list:\n",
    "            split_entropy_value += (item[0] * item[1])\n",
    "            #print(item[0], \" \", item[1])\n",
    "        ig_gain = tot_entropy - split_entropy_value\n",
    "        ig_gains_list.append((ig_gain, column))\n",
    "        print(\"\\nIg gain for \", column, \": \", ig_gain)\n",
    "\n",
    "    #Get root attribute\n",
    "    temp_max = -1\n",
    "    ans = ''\n",
    "    for item in ig_gains_list:\n",
    "        if item[0] > temp_max:\n",
    "            ans = item[1]\n",
    "            temp_max = item[0]\n",
    "\n",
    "    print(\"The root attribute is: \", ans, \" with IG: \", temp_max)\n",
    "\n",
    "\n",
    "if __name__ == \"__main__\":\n",
    "    titanic_data = pd.read_csv(\"hw2q1.csv\")\n",
    "    titanic_data.head()\n",
    "    #options = ['Upper']\n",
    "    #titanic_data = titanic_data.loc[titanic_data[\"Pclass\"].isin(options)]\n",
    "\n",
    "    #options = ['Expensive']\n",
    "    #titanic_data = titanic_data.loc[titanic_data[\"Fare\"].isin(options)]\n",
    "    # print(titanic_data)\n",
    "    # calculateRootAttribute(titanic_data)\n",
    "\n",
    "\n",
    "\n",
    "        "
   ]
  },
  {
   "cell_type": "code",
   "execution_count": null,
   "metadata": {},
   "outputs": [],
   "source": []
  }
 ]
}