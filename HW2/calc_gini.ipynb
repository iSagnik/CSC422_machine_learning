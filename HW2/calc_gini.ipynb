{
 "metadata": {
  "language_info": {
   "codemirror_mode": {
    "name": "ipython",
    "version": 3
   },
   "file_extension": ".py",
   "mimetype": "text/x-python",
   "name": "python",
   "nbconvert_exporter": "python",
   "pygments_lexer": "ipython3",
   "version": "3.9.1-final"
  },
  "orig_nbformat": 2,
  "kernelspec": {
   "name": "python3",
   "display_name": "Python 3.9.1 64-bit",
   "metadata": {
    "interpreter": {
     "hash": "c569cd2e17f62341e0f08a54f9a867c3c0d3a6f67454072d7de41a8b5dff8343"
    }
   }
  }
 },
 "nbformat": 4,
 "nbformat_minor": 2,
 "cells": [
  {
   "cell_type": "code",
   "execution_count": 18,
   "metadata": {},
   "outputs": [
    {
     "output_type": "stream",
     "name": "stdout",
     "text": [
      "     Sex    Embarked       Fare Survival\n0   Male   Cherbourg  Expensive        F\n5   Male   Cherbourg  Expensive        T\n6   Male  Queenstown      Cheap        F\n7   Male  Queenstown  Expensive        T\n9   Male   Cherbourg  Expensive        T\n10  Male   Cherbourg  Expensive        T\n12  Male  Queenstown      Cheap        F\n13  Male   Cherbourg      Cheap        F\n14  Male  Queenstown      Cheap        F\n15  Male   Cherbourg      Cheap        T\n\nColumn:  Sex\nGini idx for  Male :  0.5\nGini idx for  Sex :  0.5 \n\n\nColumn:  Embarked\nGini idx for  Cherbourg :  0.4444444444444444\nGini idx for  Queenstown :  0.375\nGini idx for  Embarked :  0.4166666666666667 \n\n\nColumn:  Fare\nGini idx for  Expensive :  0.31999999999999984\nGini idx for  Cheap :  0.31999999999999984\nGini idx for  Fare :  0.31999999999999984 \n\n\nThe root node attribute is:  Fare  with Gini idx:  0.31999999999999984\n"
     ]
    }
   ],
   "source": [
    "import pandas as pd\n",
    "\n",
    "def getGINI(val1, val2):\n",
    "    # print(val1)\n",
    "    # print(val2)\n",
    "    return 1 - ( val1 ** 2 + val2 ** 2 )\n",
    "\n",
    "def calculateRootAttribute(titanic_data):\n",
    "    true, false = titanic_data[\"Survival\"].value_counts()\n",
    "    tot_length = titanic_data.shape[0]\n",
    "\n",
    "    titanic_data_iter = titanic_data.drop(labels=\"Survival\", axis = 1)\n",
    "\n",
    "    #iterate over columns\n",
    "    col_gini_idx_list = []\n",
    "    for column in titanic_data_iter:\n",
    "        classifiers = titanic_data[column].unique()\n",
    "        print(\"\\nColumn: \", column)\n",
    "        gini_idx_list = []\n",
    "        #calculate GINI index for this column\n",
    "        for item in classifiers:\n",
    "            subset = titanic_data.loc[titanic_data[column] == item]\n",
    "            #print(subset)\n",
    "            length = subset.shape[0]\n",
    "            #print(item, \" length: \", length)\n",
    "            true_bool_series = subset.apply(lambda x: True if x['Survival'] == 'T' else False, axis = 1)\n",
    "            false = len(true_bool_series[true_bool_series == False].index)\n",
    "            true = len(true_bool_series[true_bool_series == True].index)\n",
    "            true_split = true / length\n",
    "            false_split = false / length\n",
    "            split_length = length/tot_length\n",
    "            # print(\"True: \", true)\n",
    "            # print(true_split)\n",
    "            # print(false_split)\n",
    "            # print(\"False: \", false)\n",
    "            # print(\"Split length: \", length, \"/\", tot_length)\n",
    "            gini_idx = getGINI(true_split, false_split)\n",
    "\n",
    "            print(\"Gini idx for \", item, \": \", gini_idx)\n",
    "            gini_idx_list.append( ( gini_idx, split_length ) )\n",
    "        \n",
    "        split_gini_value = 0\n",
    "        for item in gini_idx_list:\n",
    "            split_gini_value += (item[0] * item[1])\n",
    "        print(\"Gini idx for \", column, \": \", split_gini_value , \"\\n\")\n",
    "        col_gini_idx_list.append((split_gini_value, column))\n",
    "\n",
    "    #get root attribute for lowest gini idx\n",
    "    temp_min = float('inf')\n",
    "    ans = ''\n",
    "    for item in col_gini_idx_list:\n",
    "        if item[0] < temp_min:\n",
    "            ans = item[1]\n",
    "            temp_min = item[0]\n",
    "    print(\"\\nThe root node attribute is: \", ans, \" with Gini idx: \", temp_min)\n",
    "\n",
    "if __name__ == \"__main__\":\n",
    "    titanic_data = pd.read_csv(\"hw2q1.csv\")\n",
    "    options = ['Male']\n",
    "    labels =['Pclass']\n",
    "    #titanic_data = titanic_data.drop(labels=labels, axis = 1)\n",
    "    #print(titanic_data)\n",
    "    #titanic_data = titanic_data.loc[titanic_data[\"Pclass\"].isin(options)]\n",
    "    titanic_data = titanic_data.drop(labels=labels, axis = 1)\n",
    "    #print(titanic_data)\n",
    "    titanic_data = titanic_data.loc[titanic_data[\"Sex\"].isin(options)]\n",
    "    print(titanic_data)\n",
    "    calculateRootAttribute(titanic_data)"
   ]
  },
  {
   "cell_type": "code",
   "execution_count": null,
   "metadata": {},
   "outputs": [],
   "source": [
    "#"
   ]
  }
 ]
}